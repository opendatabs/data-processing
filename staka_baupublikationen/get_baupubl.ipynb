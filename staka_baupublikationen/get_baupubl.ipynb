{
 "cells": [
  {
   "cell_type": "markdown",
   "id": "30bb2a3cac3b3827",
   "metadata": {
    "id": "30bb2a3cac3b3827"
   },
   "source": [
    "# Schritt für Schritt Anleitung\n",
    "In diesem Notebook zeigen wir Ihnen Schritt für Schritt, wie Sie die Baupublikationen vom Kantonsblatt herunterladen, weiter anreichern und als CSV bzw. Excel-Datei abspeichern können.\n",
    "Wir beginnen mit dem Laden der notwendigen Bibliotheken sowie dem Setzen einiger globaler Variablen."
   ]
  },
  {
   "cell_type": "markdown",
   "id": "a0383be906a3206f",
   "metadata": {
    "id": "a0383be906a3206f"
   },
   "source": [
    "## Import libraries and setup logging\n",
    "Hier importieren wir alle relevanten Bibliotheken, die wir für das Herunterladen, Verarbeiten und Abspeichern der Daten benötigen."
   ]
  },
  {
   "cell_type": "code",
   "execution_count": 37,
   "id": "initial_id",
   "metadata": {
    "ExecuteTime": {
     "end_time": "2025-01-06T14:18:00.403165Z",
     "start_time": "2025-01-06T14:18:00.346240Z"
    },
    "collapsed": true,
    "id": "initial_id"
   },
   "outputs": [],
   "source": [
    "# Bibliotheken für die Datenverarbeitung, Netzwerkzugriff, Geodaten und Fortschrittsanzeigen\n",
    "import datetime\n",
    "import io\n",
    "import os\n",
    "import xml.etree.ElementTree as ET\n",
    "import zipfile\n",
    "from urllib.parse import urlencode\n",
    "\n",
    "import geopandas as gpd\n",
    "import pandas as pd\n",
    "import requests\n",
    "from tqdm import tqdm"
   ]
  },
  {
   "cell_type": "markdown",
   "id": "1a17201f44d4f394",
   "metadata": {
    "id": "1a17201f44d4f394"
   },
   "source": [
    "## Global variables\n",
    "Hier definieren wir ein paar globale Variablen, wie zum Beispiel die Domain für das Kantonsblatt und den Kantons-Code."
   ]
  },
  {
   "cell_type": "code",
   "execution_count": 38,
   "id": "61b72de17b27a2e4",
   "metadata": {
    "ExecuteTime": {
     "end_time": "2025-01-06T14:12:08.417350Z",
     "start_time": "2025-01-06T14:12:08.411818Z"
    },
    "id": "61b72de17b27a2e4"
   },
   "outputs": [],
   "source": [
    "# DOMAIN gibt an, von welcher URL die Publikationen geladen werden.\n",
    "# CANTON legt den Kanton fest, hier 'BS' (Basel-Stadt).\n",
    "DOMAIN = \"https://www.kantonsblatt.ch\"\n",
    "CANTON = \"BS\""
   ]
  },
  {
   "cell_type": "markdown",
   "id": "5316534815dff84a",
   "metadata": {
    "id": "5316534815dff84a"
   },
   "source": [
    "## Setup functions\n",
    "In den folgenden Zellen definieren wir alle Funktionen, die für das Herunterladen und Aufbereiten der Daten zuständig sind."
   ]
  },
  {
   "cell_type": "markdown",
   "id": "AU23XXscKp7r",
   "metadata": {
    "id": "AU23XXscKp7r"
   },
   "source": [
    "### Kantonsblatt\n",
    "Diese Funktionen kümmern sich um das Laden der Publikationsdaten aus dem Kantonsblatt (API)."
   ]
  },
  {
   "cell_type": "code",
   "execution_count": 39,
   "id": "faa67ed7c41dd329",
   "metadata": {
    "ExecuteTime": {
     "end_time": "2025-01-06T14:18:06.320246Z",
     "start_time": "2025-01-06T14:18:06.294694Z"
    },
    "id": "faa67ed7c41dd329"
   },
   "outputs": [],
   "source": [
    "# iterate_over_years() ruft iterate_over_pages() für jeden Monat eines gegebenen Jahres auf.\n",
    "# Dabei wird mit tqdm eine Fortschrittsanzeige für die Jahre dargestellt.\n",
    "# Ergebnis ist ein DataFrame mit allen Publikationen.\n",
    "def iterate_over_years():\n",
    "    start_year = 2019\n",
    "    df = pd.DataFrame()\n",
    "    for year in range(start_year, datetime.datetime.now().year + 1):\n",
    "        print(f\"\\nGetting data for year {year}\\nand month:\")\n",
    "        for month in tqdm(range(1, 13)):\n",
    "            # Falls wir uns noch im aktuellen Jahr befinden und der Monat in der Zukunft liegt, brechen wir ab.\n",
    "            if (\n",
    "                year == datetime.datetime.now().year\n",
    "                and month > datetime.datetime.now().month\n",
    "            ):\n",
    "                break\n",
    "            df_month = iterate_over_pages(year, month)\n",
    "            df = pd.concat([df, df_month])\n",
    "    return df"
   ]
  },
  {
   "cell_type": "code",
   "execution_count": 40,
   "id": "251461badb97712c",
   "metadata": {
    "ExecuteTime": {
     "end_time": "2025-01-06T14:18:08.113398Z",
     "start_time": "2025-01-06T14:18:08.069915Z"
    },
    "id": "251461badb97712c"
   },
   "outputs": [],
   "source": [
    "# iterate_over_pages(year, month) holt alle Publikationen für einen bestimmten Monat eines bestimmten Jahres.\n",
    "# Dafür wird eine Pagination über alle Seiten genutzt. Die CSV-Daten werden in einen DataFrame geladen.\n",
    "# Anschließend wird add_columns() auf die Daten angewendet.\n",
    "def iterate_over_pages(year, month):\n",
    "    base_url = (\n",
    "        f\"{DOMAIN}/api/v1/publications/csv?publicationStates=PUBLISHED&cantons={CANTON}\"\n",
    "    )\n",
    "    start_date = f\"&publicationDate.start={year}-{month}-01\"\n",
    "    end_date = (\n",
    "        f\"&publicationDate.end={year}-{month + 1}-01\"\n",
    "        if month < 12\n",
    "        else f\"&publicationDate.end={year + 1}-01-01\"\n",
    "    )\n",
    "    url = f\"{base_url}{start_date}{end_date}\"\n",
    "\n",
    "    page = 0\n",
    "    next_page = f\"{url}&pageRequest.page={page}\"\n",
    "    df = pd.DataFrame()\n",
    "\n",
    "    while True:\n",
    "        r = requests.get(next_page)\n",
    "        r.raise_for_status()\n",
    "        df_curr_page = pd.read_csv(io.StringIO(r.content.decode(\"utf-8\")), sep=\";\")\n",
    "        if df_curr_page.empty:\n",
    "            # Wenn keine Daten mehr geladen werden können, brechen wir die Schleife ab.\n",
    "            break\n",
    "\n",
    "        # Füge zusätzliche Spalten (z.B. URLs) hinzu\n",
    "        df_curr_page = add_columns(df_curr_page)\n",
    "\n",
    "        df = pd.concat([df, df_curr_page])\n",
    "        page = page + 1\n",
    "        next_page = f\"{url}&pageRequest.page={page}\"\n",
    "\n",
    "    return df"
   ]
  },
  {
   "cell_type": "code",
   "execution_count": 41,
   "id": "f56b3303e1912226",
   "metadata": {
    "ExecuteTime": {
     "end_time": "2025-01-06T14:12:34.924563Z",
     "start_time": "2025-01-06T14:12:34.918533Z"
    },
    "id": "f56b3303e1912226"
   },
   "outputs": [],
   "source": [
    "# add_columns() generiert zusätzliche Spalten für den direkten Zugriff auf PDF, XML und die Web-Ansicht\n",
    "# basierend auf der ID einer Publikation.\n",
    "def add_columns(df):\n",
    "    df[\"url_kantonsblatt\"] = df[\"id\"].apply(\n",
    "        lambda x: f\"{DOMAIN}/#!/search/publications/detail/{x}\"\n",
    "    )\n",
    "    df[\"url_pdf\"] = df[\"id\"].apply(lambda x: f\"{DOMAIN}/api/v1/publications/{x}/pdf\")\n",
    "    df[\"url_xml\"] = df[\"id\"].apply(lambda x: f\"{DOMAIN}/api/v1/publications/{x}/xml\")\n",
    "    return df"
   ]
  },
  {
   "cell_type": "code",
   "execution_count": 42,
   "id": "9ac1182d838fe979",
   "metadata": {
    "ExecuteTime": {
     "end_time": "2025-01-06T14:12:36.961721Z",
     "start_time": "2025-01-06T14:12:36.950081Z"
    },
    "id": "9ac1182d838fe979"
   },
   "outputs": [],
   "source": [
    "# get_rubric_from_api() lädt Rubriken (Ober- und Unterrubriken) aus der Kantonsblatt-API\n",
    "# und konvertiert sie in DataFrames.\n",
    "def get_rubric_from_api():\n",
    "    url = f\"{DOMAIN}/api/v1/rubrics\"\n",
    "    r = requests.get(url)\n",
    "    r.raise_for_status()\n",
    "    df = pd.read_json(io.StringIO(r.content.decode(\"utf-8\")))\n",
    "\n",
    "    # Die Spalte 'code' wird in 'rubric' umbenannt\n",
    "    df = df.rename(columns={\"code\": \"rubric\"})\n",
    "\n",
    "    # Normalisierung der Struktur, um Rubriken und deren Namen in verschiedenen Sprachen zu erhalten\n",
    "    df = pd.concat(\n",
    "        [df[[\"rubric\", \"subRubrics\"]], pd.json_normalize(df[\"name\"])], axis=1\n",
    "    )\n",
    "    df_rubric = df.rename(\n",
    "        columns={\n",
    "            \"en\": \"rubric_en\",\n",
    "            \"de\": \"rubric_de\",\n",
    "            \"fr\": \"rubric_fr\",\n",
    "            \"it\": \"rubric_it\",\n",
    "        }\n",
    "    )[[\"rubric\", \"rubric_en\", \"rubric_de\", \"rubric_fr\", \"rubric_it\"]]\n",
    "\n",
    "    # Explodiere die Unterrubriken und normalisiere diese ebenfalls\n",
    "    df = df.explode(\"subRubrics\").reset_index(drop=True)\n",
    "    df = pd.json_normalize(df[\"subRubrics\"])[\n",
    "        [\"code\", \"name.en\", \"name.de\", \"name.fr\", \"name.it\"]\n",
    "    ]\n",
    "    df_subRubric = df.rename(\n",
    "        columns={\n",
    "            \"code\": \"subRubric\",\n",
    "            \"name.en\": \"subRubric_en\",\n",
    "            \"name.de\": \"subRubric_de\",\n",
    "            \"name.fr\": \"subRubric_fr\",\n",
    "            \"name.it\": \"subRubric_it\",\n",
    "        }\n",
    "    )\n",
    "    return df_rubric, df_subRubric"
   ]
  },
  {
   "cell_type": "code",
   "execution_count": 43,
   "id": "bbea59638aa984bc",
   "metadata": {
    "ExecuteTime": {
     "end_time": "2025-01-06T14:12:37.934915Z",
     "start_time": "2025-01-06T14:12:37.928621Z"
    },
    "id": "bbea59638aa984bc"
   },
   "outputs": [],
   "source": [
    "# get_tenants_from_api() lädt die verfügbaren 'tenantCodes' (z.B. Kantons-Organisationseinheiten)\n",
    "# und liefert ein Dictionary zur Umwandlung von Code zu Titel.\n",
    "def get_tenants_from_api():\n",
    "    url = f\"{DOMAIN}/api/v1/tenants\"\n",
    "    r = requests.get(url)\n",
    "    r.raise_for_status()\n",
    "    tenants = r.json()\n",
    "    return {tenant[\"id\"]: tenant[\"title\"][\"de\"] for tenant in tenants}"
   ]
  },
  {
   "cell_type": "markdown",
   "id": "eC6Uk9ZdKs0W",
   "metadata": {
    "id": "eC6Uk9ZdKs0W"
   },
   "source": [
    "### Baupublikationen\n",
    "Die folgenden Funktionen helfen dabei, die Daten einer Baupublikation zu extrahieren, z.B. aus XML.\n"
   ]
  },
  {
   "cell_type": "code",
   "execution_count": 44,
   "id": "J1ur9YHAKvCy",
   "metadata": {
    "id": "J1ur9YHAKvCy"
   },
   "outputs": [],
   "source": [
    "# add_content_to_row(row) lädt für eine bestimmte Baupublikation das zugehörige XML und\n",
    "# konvertiert die Inhalte in ein DataFrame. Dadurch erhalten wir eine fein aufgeschlüsselte Struktur.\n",
    "def add_content_to_row(row):\n",
    "    content, _ = get_content_from_xml(row[\"url_xml\"])\n",
    "    df_content = xml_to_dataframe(content)\n",
    "\n",
    "    # Speichere den reinen XML-Inhalt (als Byte-String) in der Spalte 'content'\n",
    "    row[\"content\"] = ET.tostring(content, encoding=\"utf-8\")\n",
    "\n",
    "    # Übertrage alle Spalten aus dem ursprünglichen row in das neue df_content\n",
    "    for col in row.index:\n",
    "        if col in df_content.columns:\n",
    "            # Falls Spalte schon existiert, kombiniere vorhandene Werte\n",
    "            df_content[col] = df_content[col].combine_first(\n",
    "                pd.Series([row[col]] * len(df_content))\n",
    "            )\n",
    "        else:\n",
    "            # Erstelle eine neue Spalte mit dem Wert aus 'row'\n",
    "            df_content[col] = pd.Series([row[col]] * len(df_content))\n",
    "\n",
    "    return df_content"
   ]
  },
  {
   "cell_type": "code",
   "execution_count": 45,
   "id": "GtI661f4K134",
   "metadata": {
    "id": "GtI661f4K134"
   },
   "outputs": [],
   "source": [
    "# get_content_from_xml(url) lädt das XML für eine Publikation herunter und gibt\n",
    "# den XML-Knoten <content> und <attachments> zurück.\n",
    "def get_content_from_xml(url):\n",
    "    r = requests.get(url)\n",
    "    r.raise_for_status()\n",
    "    xml_content = r.text\n",
    "    root = ET.fromstring(xml_content)\n",
    "    content = root.find(\"content\")\n",
    "    attachments = root.find(\"attachments\")\n",
    "    return content, attachments"
   ]
  },
  {
   "cell_type": "code",
   "execution_count": 46,
   "id": "gd205gUlK3zs",
   "metadata": {
    "id": "gd205gUlK3zs"
   },
   "outputs": [],
   "source": [
    "# xml_to_dataframe(root) durchläuft das XML und erstellt ein DataFrame,\n",
    "# wobei jeder Pfad einen Spaltennamen ergibt und der Text zugeordnet wird.\n",
    "def xml_to_dataframe(root):\n",
    "    def traverse(node, path=\"\", path_dict=None):\n",
    "        if path_dict is None:\n",
    "            path_dict = {}\n",
    "\n",
    "        # Wenn der Knoten weitere Kinder hat, durchlaufe sie rekursiv\n",
    "        if list(node):  # If the node has children\n",
    "            for child in node:\n",
    "                child_path = f\"{path}_{child.tag}\" if path else child.tag\n",
    "                traverse(child, child_path, path_dict)\n",
    "        else:  # Falls Blattknoten, nimm den Text\n",
    "            value = node.text.strip() if node.text and node.text.strip() else \"\"\n",
    "            if path in path_dict:\n",
    "                path_dict[path].append(value)\n",
    "            else:\n",
    "                path_dict[path] = [value]\n",
    "        return path_dict\n",
    "\n",
    "    path_dict = traverse(root)\n",
    "\n",
    "    # Finde die maximale Länge der Listen, um das DataFrame gleichmäßig aufzufüllen\n",
    "    max_len = max(len(v) for v in path_dict.values())\n",
    "\n",
    "    # Passe die Listen in path_dict an die maximale Länge an\n",
    "    expanded_data = {\n",
    "        k: (v * max_len if len(v) == 1 else v + [\"\"] * (max_len - len(v)))\n",
    "        for k, v in path_dict.items()\n",
    "    }\n",
    "\n",
    "    df = pd.DataFrame(expanded_data)\n",
    "    return df"
   ]
  },
  {
   "cell_type": "code",
   "execution_count": 47,
   "id": "Z-E-gfqaK6SR",
   "metadata": {
    "id": "Z-E-gfqaK6SR"
   },
   "outputs": [],
   "source": [
    "# legal_form_code_to_name(df) wandelt Firmenrechtsformen (Codes) in ihre Klartexte um (z.B. AG, GmbH, etc.).\n",
    "# Dazu wird die i14y-API angefragt.\n",
    "def legal_form_code_to_name(df):\n",
    "    url_i14y = \"https://input.i14y.admin.ch/api/ConceptInput/08dad8ff-f18a-560b-bfa6-20767f2afb17/codelistEntries?page=1&pageSize=10000\"\n",
    "    response = requests.get(url_i14y)\n",
    "    response.raise_for_status()\n",
    "    legal_forms = response.json()\n",
    "\n",
    "    # Mapping von Code -> deutscher Name\n",
    "    code_to_german_name = {entry[\"value\"]: entry[\"name\"][\"de\"] for entry in legal_forms}\n",
    "\n",
    "    # Ersetze Codes in den relevanten Spalten\n",
    "    df[\"projectFramer_company_legalForm\"] = df[\"projectFramer_company_legalForm\"].map(\n",
    "        code_to_german_name\n",
    "    )\n",
    "    df[\"buildingContractor_company_legalForm\"] = df[\n",
    "        \"buildingContractor_company_legalForm\"\n",
    "    ].map(code_to_german_name)\n",
    "    return df"
   ]
  },
  {
   "cell_type": "markdown",
   "id": "bUJA-jP6Q_-i",
   "metadata": {
    "id": "bUJA-jP6Q_-i"
   },
   "source": [
    "### Parzellen in BS für Baupublikationen\n",
    "Die folgenden Funktionen dienen dazu, die Grundstücks-Geometrien (Parzellen) aus den OpenData des Kantons Basel-Stadt zu laden und zu den Baupublikationen hinzuzufügen."
   ]
  },
  {
   "cell_type": "code",
   "execution_count": 48,
   "id": "Ta9yAs5HLBlg",
   "metadata": {
    "id": "Ta9yAs5HLBlg"
   },
   "outputs": [],
   "source": [
    "# get_geometry(gdf, row) sucht zu einer gegebenen Parzellennummer (und Sektionsangabe) die\n",
    "# passende Geometrie in gdf (ein GeoDataFrame) und gibt diese zurück.\n",
    "def get_geometry(gdf, row):\n",
    "    parzellennummer = row[\"districtCadastre_relation_plot\"]\n",
    "    section = row[\"districtCadastre_relation_section\"]\n",
    "    numbers = parzellennummer.split(\",\")\n",
    "    filtered_gdf = gdf[\n",
    "        (gdf[\"parzellennu\"].isin(numbers)) & (gdf[\"r1_sektion\"] == section)\n",
    "    ]\n",
    "    geometries = filtered_gdf[\"geometry\"]\n",
    "    if len(geometries) == 1:\n",
    "        # Falls genau eine Geometrie vorliegt\n",
    "        return geometries.iloc[0]\n",
    "    else:\n",
    "        # Falls mehrere Parzellen zusammengefasst werden sollen\n",
    "        return geometries.union_all()"
   ]
  },
  {
   "cell_type": "code",
   "execution_count": 49,
   "id": "WOu09HkrLG_s",
   "metadata": {
    "id": "WOu09HkrLG_s"
   },
   "outputs": [],
   "source": [
    "# get_parzellen(df) lädt die Parzellen (Shape-Dateien) von data.bs.ch, entpackt sie\n",
    "# und reichert das übergebene DataFrame mit den entsprechenden Geometrien an.\n",
    "def get_parzellen(df):\n",
    "    # Download des Shapefile-Archivs\n",
    "    url_parzellen = \"https://data.bs.ch/explore/dataset/100201/download/?format=shp\"\n",
    "    r = requests.get(url_parzellen)\n",
    "\n",
    "    # ZIP entpacken\n",
    "    z = zipfile.ZipFile(io.BytesIO(r.content))\n",
    "    z.extractall(\"100201\")\n",
    "\n",
    "    # Shapefile einlesen\n",
    "    path_to_shp = os.path.join(\"100201\", \"100201.shp\")\n",
    "    gdf = gpd.read_file(path_to_shp, encoding=\"utf-8\")\n",
    "\n",
    "    # Fehlende Werte in 'districtCadastre_relation_plot' auffüllen\n",
    "    df.loc[\n",
    "        df[\"districtCadastre_relation_plot\"].isna(), \"districtCadastre_relation_plot\"\n",
    "    ] = \"\"\n",
    "    df[\"districtCadastre_relation_plot\"] = df[\"districtCadastre_relation_plot\"].astype(\n",
    "        str\n",
    "    )\n",
    "\n",
    "    # Parzellennummern ggf. mit führenden Nullen auffüllen\n",
    "    df[\"districtCadastre_relation_plot\"] = df[\"districtCadastre_relation_plot\"].apply(\n",
    "        correct_parzellennummer\n",
    "    )\n",
    "\n",
    "    # Hole zu jeder Zeile im DF die passende Geometrie\n",
    "    df[\"geometry\"] = df.apply(lambda x: get_geometry(gdf, x), axis=1)\n",
    "\n",
    "    # Erstelle einen Link zur entsprechenden Parzelle auf data.bs.ch\n",
    "    df[\"url_parzellen\"] = df.apply(\n",
    "        lambda row: \"https://data.bs.ch/explore/dataset/100201/table/?\"\n",
    "        + urlencode(\n",
    "            {\n",
    "                \"refine.r1_sektion\": row[\"districtCadastre_relation_section\"],\n",
    "                \"q\": \"parzellennummer: \"\n",
    "                + \" OR \".join(row[\"districtCadastre_relation_plot\"].split(\",\")),\n",
    "            }\n",
    "        ),\n",
    "        axis=1,\n",
    "    )\n",
    "\n",
    "    return df"
   ]
  },
  {
   "cell_type": "code",
   "execution_count": 50,
   "id": "0O4Xg1kyMxL7",
   "metadata": {
    "id": "0O4Xg1kyMxL7"
   },
   "outputs": [],
   "source": [
    "# correct_parzellennummer(parzellennummer) macht aus z.B. '48' -> '0048'.\n",
    "# Damit passt es zum Format der Shapefile-Daten.\n",
    "def correct_parzellennummer(parzellennummer):\n",
    "    parts = parzellennummer.split(\",\")\n",
    "    parts = [part.strip() for part in parts]\n",
    "    corrected = [num.zfill(4) for num in parts]\n",
    "    return \",\".join(corrected)"
   ]
  },
  {
   "cell_type": "markdown",
   "id": "44f889163752f2ac",
   "metadata": {
    "id": "44f889163752f2ac"
   },
   "source": [
    "## Get Kantonsblatt data\n",
    "Hier werden alle Jahre ab 2019 bis zum aktuellen Datum durchlaufen und sämtliche Publikationen abgerufen.\n",
    "**Achtung**: Dieses Skript lädt potenziell sehr viele Daten und kann entsprechend lange laufen!"
   ]
  },
  {
   "cell_type": "code",
   "execution_count": null,
   "id": "4ad2c580caa8a746",
   "metadata": {
    "colab": {
     "base_uri": "https://localhost:8080/",
     "height": 373
    },
    "id": "4ad2c580caa8a746",
    "outputId": "f996aa51-e7a3-4c33-8a4b-acc446e14bf7"
   },
   "outputs": [],
   "source": [
    "# Dieser Aufruf kann viel Zeit in Anspruch nehmen, da er alle Monate ab 2019 durchgeht.\n",
    "df_kantonsblatt = iterate_over_years()"
   ]
  },
  {
   "cell_type": "markdown",
   "id": "pf0Ui012JLje",
   "metadata": {
    "id": "pf0Ui012JLje"
   },
   "source": [
    "### Rubriken hinzufügen\n",
    "Hier werden die Codes für Rubriken und SubRubriken in Klartext umgewandelt."
   ]
  },
  {
   "cell_type": "code",
   "execution_count": null,
   "id": "79287f967d87212b",
   "metadata": {
    "id": "79287f967d87212b"
   },
   "outputs": [],
   "source": [
    "# Lade die Rubriken und führe sie mit den Publikationen zusammen.\n",
    "df_rubric, df_subRubric = get_rubric_from_api()\n",
    "df_kantonsblatt = df_kantonsblatt.merge(df_rubric, how=\"left\", on=\"rubric\")\n",
    "df_kantonsblatt = df_kantonsblatt.merge(df_subRubric, how=\"left\", on=\"subRubric\")"
   ]
  },
  {
   "cell_type": "markdown",
   "id": "JQidnYW0JZlw",
   "metadata": {
    "id": "JQidnYW0JZlw"
   },
   "source": [
    "### Tenants hinzufügen\n",
    "Hier werden die Tenant-Codes (Organisationseinheiten) in sprechende Namen umgewandelt."
   ]
  },
  {
   "cell_type": "code",
   "execution_count": null,
   "id": "i5ThlMmUJaC1",
   "metadata": {
    "id": "i5ThlMmUJaC1"
   },
   "outputs": [],
   "source": [
    "# Mappen der 'primaryTenantCode' und 'secondaryTenantsTenantCode' auf deren Namen.\n",
    "tenant_code_to_name = get_tenants_from_api()\n",
    "df_kantonsblatt[\"primaryTenantName\"] = df_kantonsblatt[\"primaryTenantCode\"].map(\n",
    "    tenant_code_to_name\n",
    ")\n",
    "df_kantonsblatt[\"secondaryTenantsTenantName\"] = (\n",
    "    df_kantonsblatt.loc[\n",
    "        df_kantonsblatt[\"secondaryTenantsTenantCode\"].notna(),\n",
    "        \"secondaryTenantsTenantCode\",\n",
    "    ]\n",
    "    .str.split(\",\")\n",
    "    .apply(lambda x: \",\".join([tenant_code_to_name.get(y) for y in x]))\n",
    ")"
   ]
  },
  {
   "cell_type": "code",
   "execution_count": null,
   "id": "IBNwEwmbNUQi",
   "metadata": {
    "id": "IBNwEwmbNUQi"
   },
   "outputs": [],
   "source": [
    "# Speichere die kombinierten Kantonsblatt-Daten in CSV/XLSX.\n",
    "df_kantonsblatt.to_csv(\"kantonsblatt.csv\", index=False)\n",
    "df_kantonsblatt.to_excel(\"kantonsblatt.xlsx\", index=False)"
   ]
  },
  {
   "cell_type": "markdown",
   "id": "ChEsHmSlJ114",
   "metadata": {
    "id": "ChEsHmSlJ114"
   },
   "source": [
    "## Get Baupublikationen\n",
    "Aus den Kantonsblatt-Daten filtern wir hier explizit die Baupublikationen heraus (z.B. SubRubric == 'BP-BS10')."
   ]
  },
  {
   "cell_type": "code",
   "execution_count": 23,
   "id": "yJWxkTirJ362",
   "metadata": {
    "id": "yJWxkTirJ362"
   },
   "outputs": [],
   "source": [
    "# Wähle nur die Zeilen, die SubRubric == 'BP-BS10' haben.\n",
    "df_baupublikationen = df_kantonsblatt[df_kantonsblatt[\"subRubric\"] == \"BP-BS10\"][\n",
    "    [\"id\", \"url_xml\"]\n",
    "]"
   ]
  },
  {
   "cell_type": "code",
   "execution_count": 28,
   "id": "doj-BUYKKaQb",
   "metadata": {
    "colab": {
     "base_uri": "https://localhost:8080/"
    },
    "id": "doj-BUYKKaQb",
    "outputId": "51f655a3-cfa1-4a72-a4b7-9ccc4ccf0ba4"
   },
   "outputs": [
    {
     "name": "stdout",
     "output_type": "stream",
     "text": [
      "Number of rows: 182it to be done\n"
     ]
    },
    {
     "name": "stderr",
     "output_type": "stream",
     "text": [
      "182it [01:37,  1.87it/s]\n"
     ]
    }
   ],
   "source": [
    "# Für jede Baupublikation wird das XML geladen und daraus Detailinformationen extrahiert.\n",
    "all_data = []\n",
    "# Print number of rows\n",
    "print(f\"Number of rows: {len(df_baupublikationen)}it to be done\")\n",
    "for index, row in tqdm(df_baupublikationen.iterrows()):\n",
    "    df_content = add_content_to_row(row)\n",
    "    all_data.append(df_content)\n",
    "\n",
    "# Sammle alle Einträge in einem DataFrame\n",
    "df_baupublikationen = pd.concat(\n",
    "    all_data, ignore_index=True\n",
    ")  # Concatenate all dataframes"
   ]
  },
  {
   "cell_type": "code",
   "execution_count": 31,
   "id": "BStKjBzhQRw3",
   "metadata": {
    "id": "BStKjBzhQRw3"
   },
   "outputs": [],
   "source": [
    "# Spaltennamen vereinfachen, um z.B. lange Namen zu kürzen.\n",
    "df_baupublikationen.columns = df_baupublikationen.columns.str.replace(\n",
    "    \"_legalEntity_multi_companies_\", \"_\"\n",
    ")\n",
    "df_baupublikationen.columns = df_baupublikationen.columns.str.replace(\n",
    "    \"_multi_companies_\", \"_\"\n",
    ")"
   ]
  },
  {
   "cell_type": "code",
   "execution_count": 32,
   "id": "PcHLcM9dKSSD",
   "metadata": {
    "id": "PcHLcM9dKSSD"
   },
   "outputs": [],
   "source": [
    "# Wandelt Rechtsform-Codes (AG, GmbH, etc.) in Klartexte um\n",
    "df_baupublikationen = legal_form_code_to_name(df_baupublikationen)"
   ]
  },
  {
   "cell_type": "markdown",
   "id": "qiFb-iBDRJxt",
   "metadata": {
    "id": "qiFb-iBDRJxt"
   },
   "source": [
    "### Last but not least: Get Parzellen\n",
    "Zum Schluss fügen wir die Parzellengeometrien hinzu, damit wir wissen, auf welchen Grundstücken gebaut wird.\n",
    "Das Laden der Shapefile-Daten kann einen Moment dauern."
   ]
  },
  {
   "cell_type": "code",
   "execution_count": 35,
   "id": "UPBPnPCPNQU7",
   "metadata": {
    "colab": {
     "base_uri": "https://localhost:8080/"
    },
    "id": "UPBPnPCPNQU7",
    "outputId": "e968a300-17f4-4100-fb7d-92b811ef0010"
   },
   "outputs": [
    {
     "name": "stderr",
     "output_type": "stream",
     "text": [
      "<ipython-input-17-fbec35bea8fb>:11: DeprecationWarning: The 'unary_union' attribute is deprecated, use the 'union_all()' method instead.\n",
      "  return geometries.unary_union\n",
      "<ipython-input-17-fbec35bea8fb>:11: DeprecationWarning: The 'unary_union' attribute is deprecated, use the 'union_all()' method instead.\n",
      "  return geometries.unary_union\n",
      "<ipython-input-17-fbec35bea8fb>:11: DeprecationWarning: The 'unary_union' attribute is deprecated, use the 'union_all()' method instead.\n",
      "  return geometries.unary_union\n",
      "<ipython-input-17-fbec35bea8fb>:11: DeprecationWarning: The 'unary_union' attribute is deprecated, use the 'union_all()' method instead.\n",
      "  return geometries.unary_union\n",
      "<ipython-input-17-fbec35bea8fb>:11: DeprecationWarning: The 'unary_union' attribute is deprecated, use the 'union_all()' method instead.\n",
      "  return geometries.unary_union\n",
      "<ipython-input-17-fbec35bea8fb>:11: DeprecationWarning: The 'unary_union' attribute is deprecated, use the 'union_all()' method instead.\n",
      "  return geometries.unary_union\n",
      "<ipython-input-17-fbec35bea8fb>:11: DeprecationWarning: The 'unary_union' attribute is deprecated, use the 'union_all()' method instead.\n",
      "  return geometries.unary_union\n",
      "<ipython-input-17-fbec35bea8fb>:11: DeprecationWarning: The 'unary_union' attribute is deprecated, use the 'union_all()' method instead.\n",
      "  return geometries.unary_union\n",
      "<ipython-input-17-fbec35bea8fb>:11: DeprecationWarning: The 'unary_union' attribute is deprecated, use the 'union_all()' method instead.\n",
      "  return geometries.unary_union\n",
      "<ipython-input-17-fbec35bea8fb>:11: DeprecationWarning: The 'unary_union' attribute is deprecated, use the 'union_all()' method instead.\n",
      "  return geometries.unary_union\n",
      "<ipython-input-17-fbec35bea8fb>:11: DeprecationWarning: The 'unary_union' attribute is deprecated, use the 'union_all()' method instead.\n",
      "  return geometries.unary_union\n",
      "<ipython-input-17-fbec35bea8fb>:11: DeprecationWarning: The 'unary_union' attribute is deprecated, use the 'union_all()' method instead.\n",
      "  return geometries.unary_union\n",
      "<ipython-input-17-fbec35bea8fb>:11: DeprecationWarning: The 'unary_union' attribute is deprecated, use the 'union_all()' method instead.\n",
      "  return geometries.unary_union\n",
      "<ipython-input-17-fbec35bea8fb>:11: DeprecationWarning: The 'unary_union' attribute is deprecated, use the 'union_all()' method instead.\n",
      "  return geometries.unary_union\n",
      "<ipython-input-17-fbec35bea8fb>:11: DeprecationWarning: The 'unary_union' attribute is deprecated, use the 'union_all()' method instead.\n",
      "  return geometries.unary_union\n",
      "<ipython-input-17-fbec35bea8fb>:11: DeprecationWarning: The 'unary_union' attribute is deprecated, use the 'union_all()' method instead.\n",
      "  return geometries.unary_union\n",
      "<ipython-input-17-fbec35bea8fb>:11: DeprecationWarning: The 'unary_union' attribute is deprecated, use the 'union_all()' method instead.\n",
      "  return geometries.unary_union\n",
      "<ipython-input-17-fbec35bea8fb>:11: DeprecationWarning: The 'unary_union' attribute is deprecated, use the 'union_all()' method instead.\n",
      "  return geometries.unary_union\n",
      "<ipython-input-17-fbec35bea8fb>:11: DeprecationWarning: The 'unary_union' attribute is deprecated, use the 'union_all()' method instead.\n",
      "  return geometries.unary_union\n",
      "<ipython-input-17-fbec35bea8fb>:11: DeprecationWarning: The 'unary_union' attribute is deprecated, use the 'union_all()' method instead.\n",
      "  return geometries.unary_union\n",
      "<ipython-input-17-fbec35bea8fb>:11: DeprecationWarning: The 'unary_union' attribute is deprecated, use the 'union_all()' method instead.\n",
      "  return geometries.unary_union\n",
      "<ipython-input-17-fbec35bea8fb>:11: DeprecationWarning: The 'unary_union' attribute is deprecated, use the 'union_all()' method instead.\n",
      "  return geometries.unary_union\n"
     ]
    }
   ],
   "source": [
    "# Füge die Geometrie (Shapefile) auf Basis der Parzellennummern hinzu.\n",
    "df_baupublikationen = get_parzellen(df_baupublikationen)"
   ]
  },
  {
   "cell_type": "code",
   "execution_count": 36,
   "id": "WT7gXYOhNgGe",
   "metadata": {
    "id": "WT7gXYOhNgGe"
   },
   "outputs": [],
   "source": [
    "# Speichere die Baupublikationen inkl. Parzellen-Geometrie\n",
    "df_baupublikationen.to_csv(\"baupublikationen.csv\", index=False)\n",
    "df_baupublikationen.to_excel(\"baupublikationen.xlsx\", index=False)"
   ]
  }
 ],
 "metadata": {
  "colab": {
   "provenance": []
  },
  "kernelspec": {
   "display_name": "Python 3",
   "language": "python",
   "name": "python3"
  },
  "language_info": {
   "codemirror_mode": {
    "name": "ipython",
    "version": 2
   },
   "file_extension": ".py",
   "mimetype": "text/x-python",
   "name": "python",
   "nbconvert_exporter": "python",
   "pygments_lexer": "ipython2",
   "version": "2.7.6"
  }
 },
 "nbformat": 4,
 "nbformat_minor": 5
}
